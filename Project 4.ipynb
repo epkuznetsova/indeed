{
 "cells": [
  {
   "cell_type": "markdown",
   "metadata": {},
   "source": [
    "# Project 4 \n",
    "\n",
    "Outline:\n",
    "\n",
    "* scraping data\n",
    "\n",
    "* binning: by salary\n",
    "\n",
    "* parsing data: tokenizing, bigrams, most_common words for each bin \n",
    "\n",
    "* building model\n",
    "\n",
    "* evaluating model\n"
   ]
  },
  {
   "cell_type": "raw",
   "metadata": {
    "collapsed": false
   },
   "source": [
    "# load the library\n",
    "from bs4 import BeautifulSoup\n",
    "import urllib2, requests\n",
    "import pandas as pd\n",
    "\n",
    "df = pd.DataFrame()   # create a new data frame\n",
    "pd.set_option('max_colwidth',500)    # to remove column limit (default is 50. Otherwise, we'll lose some info)\n",
    "\n",
    "\n",
    "# indeed.com's query url\n",
    "base_url = 'http://www.indeed.com/jobs?q=data+scientist&jt=fulltime&sort='\n",
    "sort_by = 'date'          # sort by data\n",
    "start_from = '&start='    # start page number"
   ]
  },
  {
   "cell_type": "markdown",
   "metadata": {},
   "source": [
    "Downloading the whole data for US. 09/29/2016"
   ]
  },
  {
   "cell_type": "raw",
   "metadata": {
    "collapsed": false,
    "scrolled": false
   },
   "source": [
    "for page in range(1,1000): # page from 1 to 100 \n",
    "    page = (page-1) * 10   # pagination\n",
    "    url = \"%s%s%s%d\" % (base_url, sort_by, start_from, page) # get full url \n",
    "    contents = BeautifulSoup(urllib2.urlopen(url), \"lxml\") \n",
    "\n",
    "    contentsElements = contents.find_all('div', attrs={\"class\" : '  row  result'})\n",
    "    cont = contents.find('div', attrs = {'class': 'lastRow  row  result'}) ##just added last job on each page\n",
    "    contentsElements.append(cont)\n",
    "    # each row contains 1 job\n",
    "\n",
    "    # extract job information\n",
    "    for elem in contentsElements: \n",
    "        try:\n",
    "            company = elem.find('span', attrs={'itemprop':'name'}).getText().strip() #strips off whitespace \n",
    "#           salary = elem.find('table', attrs={'class':'snip'}).getText().strip() #strips off whitespace\n",
    "        except AttributeError:\n",
    "            company = '-'\n",
    "        job_title = elem.find('a', attrs={'class':'turnstileLink'}).attrs['title']\n",
    "        home_url = \"http://www.indeed.com\"\n",
    "        job_link = \"%s%s\" % (home_url,elem.find('a').get('href'))\n",
    "        job_addr = elem.find('span', attrs={'itemprop':'addressLocality'}).getText()\n",
    "        job_posted = elem.find('span', attrs={'class': 'date'}).getText()\n",
    "        \n",
    "\n",
    "           # add a record of job info to our data frame\n",
    "\n",
    "        df = df.append({'company': company, \n",
    "                        'job_title': job_title, \n",
    "                        'job_link': job_link, \n",
    "                        'job_posted': job_posted,\n",
    "                        'job_location': job_addr\n",
    "                       }, ignore_index=True)\n"
   ]
  },
  {
   "cell_type": "code",
   "execution_count": null,
   "metadata": {
    "collapsed": false
   },
   "outputs": [],
   "source": [
    "df"
   ]
  },
  {
   "cell_type": "code",
   "execution_count": 128,
   "metadata": {
    "collapsed": false
   },
   "outputs": [
    {
     "name": "stdout",
     "output_type": "stream",
     "text": [
      "company                                                             Cisco Systems, Inc.\n",
      "job_link        http://www.indeed.com/rc/clk?jk=6cb402d057d00c35&fccid=dfc44f3b8c44a6db\n",
      "job_location                                                               San Jose, CA\n",
      "job_posted                                                                  Just posted\n",
      "job_title                                       Data Scientist - Technology and Quality\n",
      "Name: 6, dtype: object\n"
     ]
    }
   ],
   "source": [
    "# check one entry to verify contents\n",
    "print df.iloc[6]"
   ]
  },
  {
   "cell_type": "code",
   "execution_count": 129,
   "metadata": {
    "collapsed": false
   },
   "outputs": [],
   "source": [
    "# Save the result to CSV\n",
    "df.to_csv('./indeed_companies.csv', encoding='utf-8')"
   ]
  },
  {
   "cell_type": "markdown",
   "metadata": {},
   "source": [
    "Downloading the whole data for Australia. 09/29/2016"
   ]
  },
  {
   "cell_type": "code",
   "execution_count": 130,
   "metadata": {
    "collapsed": true
   },
   "outputs": [],
   "source": [
    "# load the library\n",
    "\n",
    "\n",
    "df_au = pd.DataFrame()   # create a new data frame\n",
    "pd.set_option('max_colwidth',500)    # to remove column limit (default is 50. Otherwise, we'll lose some info)\n",
    "\n",
    "\n",
    "# indeed.com's query url\n",
    "base_url = 'http://au.indeed.com/jobs?q=Data+Scientist&jt=fulltime'\n",
    "sort_by = 'date'          # sort by data\n",
    "start_from = '&start='    # start page number"
   ]
  },
  {
   "cell_type": "markdown",
   "metadata": {
    "collapsed": false
   },
   "source": [
    "for page in range(1,10): # page from 1 to 100 \n",
    "    page = (page-1) * 10   # pagination\n",
    "    url = \"%s%s%s%d\" % (base_url, sort_by, start_from, page) # get full url \n",
    "    contents = BeautifulSoup(urllib2.urlopen(url), \"lxml\") \n",
    "\n",
    "    contentsElements_au = contents.find_all('div', attrs={\"class\" : '  row  result'})\n",
    "    cont_au = contents.find('div', attrs = {'class': 'lastRow  row  result'}) ##just added last job on each page\n",
    "    contentsElements_au.append(cont_au)\n",
    "    # each row contains 1 job\n",
    "\n",
    "    # extract job information\n",
    "    for elem in contentsElements_au: \n",
    "        try:\n",
    "            company_au = elem.find('span', attrs={'itemprop':'name'}).getText().strip() #strips off whitespace \n",
    "        except AttributeError:\n",
    "            company = '-'\n",
    "        job_title_au = elem.find('a', attrs={'class':'turnstileLink'}).attrs['title']\n",
    "        home_url_au = \"http://www.indeed.com\"\n",
    "        job_link_au = \"%s%s\" % (home_url,elem.find('a').get('href'))\n",
    "        job_addr_au = elem.find('span', attrs={'itemprop':'addressLocality'}).getText()\n",
    "        job_posted_au = elem.find('span', attrs={'class': 'date'}).getText()\n",
    "\n",
    "           # add a record of job info to our data frame\n",
    "\n",
    "        df_au = df_au.append({'company': company_au, \n",
    "                        'job_title': job_title_au, \n",
    "                        'job_link': job_link_au, \n",
    "                        'job_posted': job_posted_au,\n",
    "                        'job_location': job_addr_au\n",
    "                       }, ignore_index=True)\n",
    "df_au"
   ]
  },
  {
   "cell_type": "markdown",
   "metadata": {
    "collapsed": true
   },
   "source": [
    "Save the result to CSV\n",
    "df_au.to_csv('./indeed_companies_au.csv', encoding='utf-8')"
   ]
  },
  {
   "cell_type": "markdown",
   "metadata": {
    "collapsed": false
   },
   "source": [
    "jobs_data = pd.read_csv('indeed_companies.csv')\n",
    "jobs_data_au = pd.read_csv('indeed_companies_au.csv')\n",
    "frames = [jobs_data, jobs_data_au]\n",
    "result = pd.concat(frames, axis = 0, ignore_index = True)\n",
    "result"
   ]
  },
  {
   "cell_type": "code",
   "execution_count": null,
   "metadata": {
    "collapsed": true
   },
   "outputs": [],
   "source": []
  },
  {
   "cell_type": "markdown",
   "metadata": {},
   "source": [
    "."
   ]
  },
  {
   "cell_type": "code",
   "execution_count": 51,
   "metadata": {
    "collapsed": true
   },
   "outputs": [],
   "source": [
    "def extract_text(el):\n",
    "    if el:\n",
    "        return el.text.strip()\n",
    "    else:\n",
    "        return ''      \n",
    "\n",
    "def get_company_from_result(result):\n",
    "    return extract_text(result.find('span', {'class' : 'company'}))\n",
    "\n",
    "def get_location_from_result(result):\n",
    "    return extract_text(result.find('span', {'class' : 'location'}))\n",
    "\n",
    "def get_summary_from_result(result):\n",
    "    return extract_text(result.find('span', {'class' : 'summary'}))\n",
    "\n",
    "def get_title_from_result(result):\n",
    "    return result.find('a', {'data-tn-element' : 'jobTitle'}).text.strip()\n",
    "\n",
    "def get_salary_from_result(result):\n",
    "    salary_table = result.find('td', {'class' : 'snip'})\n",
    "    if salary_table:\n",
    "        snip = salary_table.find('nobr')\n",
    "        if snip:\n",
    "            return snip.text.strip()\n",
    "\n",
    "    return None\n",
    "\n",
    "\n",
    "def extract_salary_average(salary_string):\n",
    "    regex = r'\\$([0-9]+,[0-9]+)'\n",
    "    matches = re.findall(regex, salary_string)\n",
    "    return np.mean([float(salary.replace(',', '')) for salary in matches ])\n"
   ]
  },
  {
   "cell_type": "code",
   "execution_count": 3,
   "metadata": {
    "collapsed": false
   },
   "outputs": [
    {
     "name": "stderr",
     "output_type": "stream",
     "text": [
      "C:\\Users\\voyo\\Anaconda2\\lib\\site-packages\\bs4\\__init__.py:166: UserWarning: No parser was explicitly specified, so I'm using the best available HTML parser for this system (\"lxml\"). This usually isn't a problem, but if you run this code on another system, or in a different virtual environment, it may use a different parser and behave differently.\n",
      "\n",
      "To get rid of this warning, change this:\n",
      "\n",
      " BeautifulSoup([your markup])\n",
      "\n",
      "to this:\n",
      "\n",
      " BeautifulSoup([your markup], \"lxml\")\n",
      "\n",
      "  markup_type=markup_type))\n"
     ]
    }
   ],
   "source": [
    "import pandas as pd\n",
    "from bs4 import BeautifulSoup\n",
    "import urllib2, requests\n",
    "\n",
    "\n",
    "url_template = \"http://www.indeed.com/jobs?q=data+scientist+${}%2C000&l=USA&start={}\"\n",
    "max_results_per_city = 5000 # Set this to a high-value (5000) to generate more results. \n",
    "\n",
    "# Crawling more results, will also take much longer. First test your code on a small number of results and then expand.\n",
    "\n",
    "#city = elem.find('span', attrs={'itemprop':'addressLocality'}).getText()\n",
    "\n",
    "rows = []\n",
    "for salary in set([ '55-70', '70-85', '85-100', '100-115']):\n",
    "    for start in range(1,1000): \n",
    "        r = requests.get(url_template.format(salary, start))\n",
    "        soup = BeautifulSoup(r.content) \n",
    "        results = soup.findAll('div', { \"class\" : \"result\" })\n",
    "        for result in results:\n",
    "            if result:\n",
    "                row = {}\n",
    "                row['title'] = get_title_from_result(result)\n",
    "                row['company'] = get_company_from_result(result)\n",
    "                row['summary'] = get_summary_from_result(result)\n",
    "                row['city'] = get_location_from_result(result) \n",
    "                row['bin'] = salary\n",
    "            #row['salary'] = get_salary_from_result(result)\n",
    "                rows.append(row)\n",
    "                "
   ]
  },
  {
   "cell_type": "code",
   "execution_count": 5,
   "metadata": {
    "collapsed": true
   },
   "outputs": [],
   "source": [
    "result.to_csv('./indeed_companies.csv', encoding='utf-8')"
   ]
  },
  {
   "cell_type": "code",
   "execution_count": 50,
   "metadata": {
    "collapsed": false
   },
   "outputs": [
    {
     "ename": "AttributeError",
     "evalue": "'DataFrame' object has no attribute 'set_option'",
     "output_type": "error",
     "traceback": [
      "\u001b[1;31m---------------------------------------------------------------------------\u001b[0m",
      "\u001b[1;31mAttributeError\u001b[0m                            Traceback (most recent call last)",
      "\u001b[1;32m<ipython-input-50-94ec8328d4b7>\u001b[0m in \u001b[0;36m<module>\u001b[1;34m()\u001b[0m\n\u001b[0;32m      1\u001b[0m \u001b[0mresult\u001b[0m \u001b[1;33m=\u001b[0m \u001b[0mpd\u001b[0m\u001b[1;33m.\u001b[0m\u001b[0mDataFrame\u001b[0m\u001b[1;33m.\u001b[0m\u001b[0mfrom_records\u001b[0m\u001b[1;33m(\u001b[0m\u001b[0mrows\u001b[0m\u001b[1;33m)\u001b[0m\u001b[1;33m\u001b[0m\u001b[0m\n\u001b[1;32m----> 2\u001b[1;33m \u001b[0mresult\u001b[0m\u001b[1;33m.\u001b[0m\u001b[0mset_option\u001b[0m\u001b[1;33m(\u001b[0m\u001b[1;34m'max_colwidth'\u001b[0m\u001b[1;33m,\u001b[0m\u001b[1;36m500\u001b[0m\u001b[1;33m)\u001b[0m \u001b[1;31m# create a new data frame\u001b[0m\u001b[1;33m\u001b[0m\u001b[0m\n\u001b[0m\u001b[0;32m      3\u001b[0m \u001b[0mresult\u001b[0m\u001b[1;33m.\u001b[0m\u001b[0mdrop_duplicates\u001b[0m\u001b[1;33m(\u001b[0m\u001b[0msubset\u001b[0m \u001b[1;33m=\u001b[0m \u001b[1;34m\"summary\"\u001b[0m\u001b[1;33m)\u001b[0m\u001b[1;33m\u001b[0m\u001b[0m\n\u001b[0;32m      4\u001b[0m \u001b[0mresult\u001b[0m\u001b[1;33m\u001b[0m\u001b[0m\n",
      "\u001b[1;32mC:\\Users\\voyo\\Anaconda2\\lib\\site-packages\\pandas\\core\\generic.pyc\u001b[0m in \u001b[0;36m__getattr__\u001b[1;34m(self, name)\u001b[0m\n\u001b[0;32m   2670\u001b[0m             \u001b[1;32mif\u001b[0m \u001b[0mname\u001b[0m \u001b[1;32min\u001b[0m \u001b[0mself\u001b[0m\u001b[1;33m.\u001b[0m\u001b[0m_info_axis\u001b[0m\u001b[1;33m:\u001b[0m\u001b[1;33m\u001b[0m\u001b[0m\n\u001b[0;32m   2671\u001b[0m                 \u001b[1;32mreturn\u001b[0m \u001b[0mself\u001b[0m\u001b[1;33m[\u001b[0m\u001b[0mname\u001b[0m\u001b[1;33m]\u001b[0m\u001b[1;33m\u001b[0m\u001b[0m\n\u001b[1;32m-> 2672\u001b[1;33m             \u001b[1;32mreturn\u001b[0m \u001b[0mobject\u001b[0m\u001b[1;33m.\u001b[0m\u001b[0m__getattribute__\u001b[0m\u001b[1;33m(\u001b[0m\u001b[0mself\u001b[0m\u001b[1;33m,\u001b[0m \u001b[0mname\u001b[0m\u001b[1;33m)\u001b[0m\u001b[1;33m\u001b[0m\u001b[0m\n\u001b[0m\u001b[0;32m   2673\u001b[0m \u001b[1;33m\u001b[0m\u001b[0m\n\u001b[0;32m   2674\u001b[0m     \u001b[1;32mdef\u001b[0m \u001b[0m__setattr__\u001b[0m\u001b[1;33m(\u001b[0m\u001b[0mself\u001b[0m\u001b[1;33m,\u001b[0m \u001b[0mname\u001b[0m\u001b[1;33m,\u001b[0m \u001b[0mvalue\u001b[0m\u001b[1;33m)\u001b[0m\u001b[1;33m:\u001b[0m\u001b[1;33m\u001b[0m\u001b[0m\n",
      "\u001b[1;31mAttributeError\u001b[0m: 'DataFrame' object has no attribute 'set_option'"
     ]
    }
   ],
   "source": [
    "result = pd.DataFrame.from_records(rows)\n",
    "#result.set_option('max_colwidth',500) # create a new data frame\n",
    "result.drop_duplicates(subset = \"summary\")\n",
    "result"
   ]
  },
  {
   "cell_type": "markdown",
   "metadata": {},
   "source": [
    "."
   ]
  },
  {
   "cell_type": "code",
   "execution_count": 49,
   "metadata": {
    "collapsed": false
   },
   "outputs": [
    {
     "data": {
      "text/html": [
       "<div>\n",
       "<table border=\"1\" class=\"dataframe\">\n",
       "  <thead>\n",
       "    <tr style=\"text-align: right;\">\n",
       "      <th></th>\n",
       "      <th>Unnamed: 0</th>\n",
       "      <th>bin</th>\n",
       "      <th>city</th>\n",
       "      <th>company</th>\n",
       "      <th>summary</th>\n",
       "      <th>title</th>\n",
       "    </tr>\n",
       "  </thead>\n",
       "  <tbody>\n",
       "    <tr>\n",
       "      <th>29970</th>\n",
       "      <td>29970</td>\n",
       "      <td>55-70</td>\n",
       "      <td>Rockville, MD</td>\n",
       "      <td>ICF</td>\n",
       "      <td>Experience analyzing data from large social su...</td>\n",
       "      <td>Data Analyst</td>\n",
       "    </tr>\n",
       "    <tr>\n",
       "      <th>29971</th>\n",
       "      <td>29971</td>\n",
       "      <td>55-70</td>\n",
       "      <td>Wellesley, MA 02481</td>\n",
       "      <td>Aetna</td>\n",
       "      <td>The Data Scientist will develop, implement and...</td>\n",
       "      <td>Data Scientist Statistician</td>\n",
       "    </tr>\n",
       "    <tr>\n",
       "      <th>29972</th>\n",
       "      <td>29972</td>\n",
       "      <td>55-70</td>\n",
       "      <td>Newton, MA</td>\n",
       "      <td>Thermalin Diabetes, LLC</td>\n",
       "      <td>Knack for communicating stories through data v...</td>\n",
       "      <td>Data Scientist - Newton, MA (will work in Bost...</td>\n",
       "    </tr>\n",
       "    <tr>\n",
       "      <th>29973</th>\n",
       "      <td>29973</td>\n",
       "      <td>55-70</td>\n",
       "      <td>Framingham, MA</td>\n",
       "      <td>Staples</td>\n",
       "      <td>: Qualifications Job : Location(s) : Other Loc...</td>\n",
       "      <td>Data Scientist, Framingham, MA</td>\n",
       "    </tr>\n",
       "    <tr>\n",
       "      <th>29974</th>\n",
       "      <td>29974</td>\n",
       "      <td>55-70</td>\n",
       "      <td>Hartford, CT 06156</td>\n",
       "      <td>Aetna</td>\n",
       "      <td>Ability to work with large data sets from mult...</td>\n",
       "      <td>Data Scientist Analyst</td>\n",
       "    </tr>\n",
       "    <tr>\n",
       "      <th>29975</th>\n",
       "      <td>29975</td>\n",
       "      <td>55-70</td>\n",
       "      <td>Cambridge, MA</td>\n",
       "      <td>KAYAK.com</td>\n",
       "      <td>Investigate data problems, identify patterns. ...</td>\n",
       "      <td>Data Scientist</td>\n",
       "    </tr>\n",
       "    <tr>\n",
       "      <th>29976</th>\n",
       "      <td>29976</td>\n",
       "      <td>55-70</td>\n",
       "      <td>Springfield, VA</td>\n",
       "      <td>Concurrent Technologies Corporation</td>\n",
       "      <td>Associate Data Scientist. CTC has an opportuni...</td>\n",
       "      <td>Associate Data Scientist</td>\n",
       "    </tr>\n",
       "    <tr>\n",
       "      <th>29977</th>\n",
       "      <td>29977</td>\n",
       "      <td>55-70</td>\n",
       "      <td>Raleigh, NC</td>\n",
       "      <td>Resolvit, LLC</td>\n",
       "      <td>Technical knowledge regarding data models, dat...</td>\n",
       "      <td>Data Scientist</td>\n",
       "    </tr>\n",
       "    <tr>\n",
       "      <th>29978</th>\n",
       "      <td>29978</td>\n",
       "      <td>55-70</td>\n",
       "      <td>Cambridge, MA</td>\n",
       "      <td>Massachusetts General Hospital(MGH)</td>\n",
       "      <td>In addition, this position involves data analy...</td>\n",
       "      <td>Research Scientist, Sr. (Phd)</td>\n",
       "    </tr>\n",
       "    <tr>\n",
       "      <th>29979</th>\n",
       "      <td>29979</td>\n",
       "      <td>55-70</td>\n",
       "      <td>Alpharetta, GA</td>\n",
       "      <td>krg technology inc</td>\n",
       "      <td>Data scientist with either a Masters or PhD. S...</td>\n",
       "      <td>Data Scientist</td>\n",
       "    </tr>\n",
       "    <tr>\n",
       "      <th>29980</th>\n",
       "      <td>29980</td>\n",
       "      <td>55-70</td>\n",
       "      <td>Rockville, MD</td>\n",
       "      <td>ICF</td>\n",
       "      <td>Experience analyzing data from large social su...</td>\n",
       "      <td>Data Analyst</td>\n",
       "    </tr>\n",
       "    <tr>\n",
       "      <th>29981</th>\n",
       "      <td>29981</td>\n",
       "      <td>55-70</td>\n",
       "      <td>Wellesley, MA 02481</td>\n",
       "      <td>Aetna</td>\n",
       "      <td>The Data Scientist will develop, implement and...</td>\n",
       "      <td>Data Scientist Statistician</td>\n",
       "    </tr>\n",
       "    <tr>\n",
       "      <th>29982</th>\n",
       "      <td>29982</td>\n",
       "      <td>55-70</td>\n",
       "      <td>Newton, MA</td>\n",
       "      <td>Thermalin Diabetes, LLC</td>\n",
       "      <td>Knack for communicating stories through data v...</td>\n",
       "      <td>Data Scientist - Newton, MA (will work in Bost...</td>\n",
       "    </tr>\n",
       "    <tr>\n",
       "      <th>29983</th>\n",
       "      <td>29983</td>\n",
       "      <td>55-70</td>\n",
       "      <td>Framingham, MA</td>\n",
       "      <td>Staples</td>\n",
       "      <td>: Qualifications Job : Location(s) : Other Loc...</td>\n",
       "      <td>Data Scientist, Framingham, MA</td>\n",
       "    </tr>\n",
       "    <tr>\n",
       "      <th>29984</th>\n",
       "      <td>29984</td>\n",
       "      <td>55-70</td>\n",
       "      <td>Hartford, CT 06156</td>\n",
       "      <td>Aetna</td>\n",
       "      <td>Ability to work with large data sets from mult...</td>\n",
       "      <td>Data Scientist Analyst</td>\n",
       "    </tr>\n",
       "    <tr>\n",
       "      <th>29985</th>\n",
       "      <td>29985</td>\n",
       "      <td>55-70</td>\n",
       "      <td>Cambridge, MA</td>\n",
       "      <td>KAYAK.com</td>\n",
       "      <td>Investigate data problems, identify patterns. ...</td>\n",
       "      <td>Data Scientist</td>\n",
       "    </tr>\n",
       "    <tr>\n",
       "      <th>29986</th>\n",
       "      <td>29986</td>\n",
       "      <td>55-70</td>\n",
       "      <td>Springfield, VA</td>\n",
       "      <td>Concurrent Technologies Corporation</td>\n",
       "      <td>Associate Data Scientist. CTC has an opportuni...</td>\n",
       "      <td>Associate Data Scientist</td>\n",
       "    </tr>\n",
       "    <tr>\n",
       "      <th>29987</th>\n",
       "      <td>29987</td>\n",
       "      <td>55-70</td>\n",
       "      <td>Raleigh, NC</td>\n",
       "      <td>Resolvit, LLC</td>\n",
       "      <td>Technical knowledge regarding data models, dat...</td>\n",
       "      <td>Data Scientist</td>\n",
       "    </tr>\n",
       "    <tr>\n",
       "      <th>29988</th>\n",
       "      <td>29988</td>\n",
       "      <td>55-70</td>\n",
       "      <td>Cambridge, MA</td>\n",
       "      <td>Massachusetts General Hospital(MGH)</td>\n",
       "      <td>In addition, this position involves data analy...</td>\n",
       "      <td>Research Scientist, Sr. (Phd)</td>\n",
       "    </tr>\n",
       "    <tr>\n",
       "      <th>29989</th>\n",
       "      <td>29989</td>\n",
       "      <td>55-70</td>\n",
       "      <td>Alpharetta, GA</td>\n",
       "      <td>krg technology inc</td>\n",
       "      <td>Data scientist with either a Masters or PhD. S...</td>\n",
       "      <td>Data Scientist</td>\n",
       "    </tr>\n",
       "    <tr>\n",
       "      <th>29990</th>\n",
       "      <td>29990</td>\n",
       "      <td>55-70</td>\n",
       "      <td>Rockville, MD</td>\n",
       "      <td>ICF</td>\n",
       "      <td>Experience analyzing data from large social su...</td>\n",
       "      <td>Data Analyst</td>\n",
       "    </tr>\n",
       "    <tr>\n",
       "      <th>29991</th>\n",
       "      <td>29991</td>\n",
       "      <td>55-70</td>\n",
       "      <td>Wellesley, MA 02481</td>\n",
       "      <td>Aetna</td>\n",
       "      <td>The Data Scientist will develop, implement and...</td>\n",
       "      <td>Data Scientist Statistician</td>\n",
       "    </tr>\n",
       "    <tr>\n",
       "      <th>29992</th>\n",
       "      <td>29992</td>\n",
       "      <td>55-70</td>\n",
       "      <td>Newton, MA</td>\n",
       "      <td>Thermalin Diabetes, LLC</td>\n",
       "      <td>Knack for communicating stories through data v...</td>\n",
       "      <td>Data Scientist - Newton, MA (will work in Bost...</td>\n",
       "    </tr>\n",
       "    <tr>\n",
       "      <th>29993</th>\n",
       "      <td>29993</td>\n",
       "      <td>55-70</td>\n",
       "      <td>Framingham, MA</td>\n",
       "      <td>Staples</td>\n",
       "      <td>: Qualifications Job : Location(s) : Other Loc...</td>\n",
       "      <td>Data Scientist, Framingham, MA</td>\n",
       "    </tr>\n",
       "    <tr>\n",
       "      <th>29994</th>\n",
       "      <td>29994</td>\n",
       "      <td>55-70</td>\n",
       "      <td>Hartford, CT 06156</td>\n",
       "      <td>Aetna</td>\n",
       "      <td>Ability to work with large data sets from mult...</td>\n",
       "      <td>Data Scientist Analyst</td>\n",
       "    </tr>\n",
       "    <tr>\n",
       "      <th>29995</th>\n",
       "      <td>29995</td>\n",
       "      <td>55-70</td>\n",
       "      <td>Cambridge, MA</td>\n",
       "      <td>KAYAK.com</td>\n",
       "      <td>Investigate data problems, identify patterns. ...</td>\n",
       "      <td>Data Scientist</td>\n",
       "    </tr>\n",
       "    <tr>\n",
       "      <th>29996</th>\n",
       "      <td>29996</td>\n",
       "      <td>55-70</td>\n",
       "      <td>Springfield, VA</td>\n",
       "      <td>Concurrent Technologies Corporation</td>\n",
       "      <td>Associate Data Scientist. CTC has an opportuni...</td>\n",
       "      <td>Associate Data Scientist</td>\n",
       "    </tr>\n",
       "    <tr>\n",
       "      <th>29997</th>\n",
       "      <td>29997</td>\n",
       "      <td>55-70</td>\n",
       "      <td>Raleigh, NC</td>\n",
       "      <td>Resolvit, LLC</td>\n",
       "      <td>Technical knowledge regarding data models, dat...</td>\n",
       "      <td>Data Scientist</td>\n",
       "    </tr>\n",
       "    <tr>\n",
       "      <th>29998</th>\n",
       "      <td>29998</td>\n",
       "      <td>55-70</td>\n",
       "      <td>Cambridge, MA</td>\n",
       "      <td>Massachusetts General Hospital(MGH)</td>\n",
       "      <td>In addition, this position involves data analy...</td>\n",
       "      <td>Research Scientist, Sr. (Phd)</td>\n",
       "    </tr>\n",
       "    <tr>\n",
       "      <th>29999</th>\n",
       "      <td>29999</td>\n",
       "      <td>55-70</td>\n",
       "      <td>Alpharetta, GA</td>\n",
       "      <td>krg technology inc</td>\n",
       "      <td>Data scientist with either a Masters or PhD. S...</td>\n",
       "      <td>Data Scientist</td>\n",
       "    </tr>\n",
       "    <tr>\n",
       "      <th>...</th>\n",
       "      <td>...</td>\n",
       "      <td>...</td>\n",
       "      <td>...</td>\n",
       "      <td>...</td>\n",
       "      <td>...</td>\n",
       "      <td>...</td>\n",
       "    </tr>\n",
       "    <tr>\n",
       "      <th>39930</th>\n",
       "      <td>39930</td>\n",
       "      <td>55-70</td>\n",
       "      <td>San Francisco, CA</td>\n",
       "      <td>Ancestry</td>\n",
       "      <td>Working with a nimble team of physicians, gene...</td>\n",
       "      <td>Scientific Data Wrangler</td>\n",
       "    </tr>\n",
       "    <tr>\n",
       "      <th>39931</th>\n",
       "      <td>39931</td>\n",
       "      <td>55-70</td>\n",
       "      <td>New York, NY 10036 (Clinton area)</td>\n",
       "      <td>ESPN</td>\n",
       "      <td>Report, track and provide analysis of national...</td>\n",
       "      <td>Research Analyst, TV</td>\n",
       "    </tr>\n",
       "    <tr>\n",
       "      <th>39932</th>\n",
       "      <td>39932</td>\n",
       "      <td>55-70</td>\n",
       "      <td>Northridge, CA</td>\n",
       "      <td>California State University</td>\n",
       "      <td>CLINICAL LAB SCIENTIST I:. CLINICAL LAB SCIENT...</td>\n",
       "      <td>Clinical Lab Scientist or Technologist (Job ID...</td>\n",
       "    </tr>\n",
       "    <tr>\n",
       "      <th>39933</th>\n",
       "      <td>39933</td>\n",
       "      <td>55-70</td>\n",
       "      <td>Norwich, NY</td>\n",
       "      <td>Kerry</td>\n",
       "      <td>Proficient in all testing conducted in the Nor...</td>\n",
       "      <td>Product Development Scientist</td>\n",
       "    </tr>\n",
       "    <tr>\n",
       "      <th>39934</th>\n",
       "      <td>39934</td>\n",
       "      <td>55-70</td>\n",
       "      <td>New York, NY 10019 (Midtown area)</td>\n",
       "      <td>Mount Sinai Health System</td>\n",
       "      <td>Reviews and presents data for publication or p...</td>\n",
       "      <td>SENIOR ASSOCIATE RESEARCHER - FULL TIME - DAYS...</td>\n",
       "    </tr>\n",
       "    <tr>\n",
       "      <th>39935</th>\n",
       "      <td>39935</td>\n",
       "      <td>55-70</td>\n",
       "      <td>Lee's Summit, MO</td>\n",
       "      <td>CLARCOR Industrial Air</td>\n",
       "      <td>Prepare tabulation and summary of findings and...</td>\n",
       "      <td>Senior Lab Technician</td>\n",
       "    </tr>\n",
       "    <tr>\n",
       "      <th>39936</th>\n",
       "      <td>39936</td>\n",
       "      <td>55-70</td>\n",
       "      <td>Fort Belvoir, VA</td>\n",
       "      <td>CTI And Associates Inc.</td>\n",
       "      <td>Preparing inspectionreports, correspondence an...</td>\n",
       "      <td>Hazardous Waste Technician I</td>\n",
       "    </tr>\n",
       "    <tr>\n",
       "      <th>39937</th>\n",
       "      <td>39937</td>\n",
       "      <td>55-70</td>\n",
       "      <td>Dallas, TX</td>\n",
       "      <td>Toyota</td>\n",
       "      <td>C360, data scientists, Urban Science) and deve...</td>\n",
       "      <td>Parts Sales Analyst</td>\n",
       "    </tr>\n",
       "    <tr>\n",
       "      <th>39938</th>\n",
       "      <td>39938</td>\n",
       "      <td>55-70</td>\n",
       "      <td>Atlanta, GA</td>\n",
       "      <td>ICF</td>\n",
       "      <td>The Senior Associate will be responsible for d...</td>\n",
       "      <td>Tribal Evaluation Specialist</td>\n",
       "    </tr>\n",
       "    <tr>\n",
       "      <th>39939</th>\n",
       "      <td>39939</td>\n",
       "      <td>55-70</td>\n",
       "      <td>Charlotte, NC</td>\n",
       "      <td>Randall Reilly</td>\n",
       "      <td>Performs tasks relevant to the clarification o...</td>\n",
       "      <td>Research Analyst</td>\n",
       "    </tr>\n",
       "    <tr>\n",
       "      <th>39940</th>\n",
       "      <td>39940</td>\n",
       "      <td>55-70</td>\n",
       "      <td>San Francisco, CA</td>\n",
       "      <td>Ancestry</td>\n",
       "      <td>Working with a nimble team of physicians, gene...</td>\n",
       "      <td>Scientific Data Wrangler</td>\n",
       "    </tr>\n",
       "    <tr>\n",
       "      <th>39941</th>\n",
       "      <td>39941</td>\n",
       "      <td>55-70</td>\n",
       "      <td>New York, NY 10036 (Clinton area)</td>\n",
       "      <td>ESPN</td>\n",
       "      <td>Report, track and provide analysis of national...</td>\n",
       "      <td>Research Analyst, TV</td>\n",
       "    </tr>\n",
       "    <tr>\n",
       "      <th>39942</th>\n",
       "      <td>39942</td>\n",
       "      <td>55-70</td>\n",
       "      <td>Northridge, CA</td>\n",
       "      <td>California State University</td>\n",
       "      <td>CLINICAL LAB SCIENTIST I:. CLINICAL LAB SCIENT...</td>\n",
       "      <td>Clinical Lab Scientist or Technologist (Job ID...</td>\n",
       "    </tr>\n",
       "    <tr>\n",
       "      <th>39943</th>\n",
       "      <td>39943</td>\n",
       "      <td>55-70</td>\n",
       "      <td>Norwich, NY</td>\n",
       "      <td>Kerry</td>\n",
       "      <td>Proficient in all testing conducted in the Nor...</td>\n",
       "      <td>Product Development Scientist</td>\n",
       "    </tr>\n",
       "    <tr>\n",
       "      <th>39944</th>\n",
       "      <td>39944</td>\n",
       "      <td>55-70</td>\n",
       "      <td>New York, NY 10019 (Midtown area)</td>\n",
       "      <td>Mount Sinai Health System</td>\n",
       "      <td>Reviews and presents data for publication or p...</td>\n",
       "      <td>SENIOR ASSOCIATE RESEARCHER - FULL TIME - DAYS...</td>\n",
       "    </tr>\n",
       "    <tr>\n",
       "      <th>39945</th>\n",
       "      <td>39945</td>\n",
       "      <td>55-70</td>\n",
       "      <td>Lee's Summit, MO</td>\n",
       "      <td>CLARCOR Industrial Air</td>\n",
       "      <td>Prepare tabulation and summary of findings and...</td>\n",
       "      <td>Senior Lab Technician</td>\n",
       "    </tr>\n",
       "    <tr>\n",
       "      <th>39946</th>\n",
       "      <td>39946</td>\n",
       "      <td>55-70</td>\n",
       "      <td>Fort Belvoir, VA</td>\n",
       "      <td>CTI And Associates Inc.</td>\n",
       "      <td>Preparing inspectionreports, correspondence an...</td>\n",
       "      <td>Hazardous Waste Technician I</td>\n",
       "    </tr>\n",
       "    <tr>\n",
       "      <th>39947</th>\n",
       "      <td>39947</td>\n",
       "      <td>55-70</td>\n",
       "      <td>Dallas, TX</td>\n",
       "      <td>Toyota</td>\n",
       "      <td>C360, data scientists, Urban Science) and deve...</td>\n",
       "      <td>Parts Sales Analyst</td>\n",
       "    </tr>\n",
       "    <tr>\n",
       "      <th>39948</th>\n",
       "      <td>39948</td>\n",
       "      <td>55-70</td>\n",
       "      <td>Atlanta, GA</td>\n",
       "      <td>ICF</td>\n",
       "      <td>The Senior Associate will be responsible for d...</td>\n",
       "      <td>Tribal Evaluation Specialist</td>\n",
       "    </tr>\n",
       "    <tr>\n",
       "      <th>39949</th>\n",
       "      <td>39949</td>\n",
       "      <td>55-70</td>\n",
       "      <td>Charlotte, NC</td>\n",
       "      <td>Randall Reilly</td>\n",
       "      <td>Performs tasks relevant to the clarification o...</td>\n",
       "      <td>Research Analyst</td>\n",
       "    </tr>\n",
       "    <tr>\n",
       "      <th>39950</th>\n",
       "      <td>39950</td>\n",
       "      <td>55-70</td>\n",
       "      <td>San Francisco, CA</td>\n",
       "      <td>Ancestry</td>\n",
       "      <td>Working with a nimble team of physicians, gene...</td>\n",
       "      <td>Scientific Data Wrangler</td>\n",
       "    </tr>\n",
       "    <tr>\n",
       "      <th>39951</th>\n",
       "      <td>39951</td>\n",
       "      <td>55-70</td>\n",
       "      <td>New York, NY 10036 (Clinton area)</td>\n",
       "      <td>ESPN</td>\n",
       "      <td>Report, track and provide analysis of national...</td>\n",
       "      <td>Research Analyst, TV</td>\n",
       "    </tr>\n",
       "    <tr>\n",
       "      <th>39952</th>\n",
       "      <td>39952</td>\n",
       "      <td>55-70</td>\n",
       "      <td>Northridge, CA</td>\n",
       "      <td>California State University</td>\n",
       "      <td>CLINICAL LAB SCIENTIST I:. CLINICAL LAB SCIENT...</td>\n",
       "      <td>Clinical Lab Scientist or Technologist (Job ID...</td>\n",
       "    </tr>\n",
       "    <tr>\n",
       "      <th>39953</th>\n",
       "      <td>39953</td>\n",
       "      <td>55-70</td>\n",
       "      <td>Norwich, NY</td>\n",
       "      <td>Kerry</td>\n",
       "      <td>Proficient in all testing conducted in the Nor...</td>\n",
       "      <td>Product Development Scientist</td>\n",
       "    </tr>\n",
       "    <tr>\n",
       "      <th>39954</th>\n",
       "      <td>39954</td>\n",
       "      <td>55-70</td>\n",
       "      <td>New York, NY 10019 (Midtown area)</td>\n",
       "      <td>Mount Sinai Health System</td>\n",
       "      <td>Reviews and presents data for publication or p...</td>\n",
       "      <td>SENIOR ASSOCIATE RESEARCHER - FULL TIME - DAYS...</td>\n",
       "    </tr>\n",
       "    <tr>\n",
       "      <th>39955</th>\n",
       "      <td>39955</td>\n",
       "      <td>55-70</td>\n",
       "      <td>Lee's Summit, MO</td>\n",
       "      <td>CLARCOR Industrial Air</td>\n",
       "      <td>Prepare tabulation and summary of findings and...</td>\n",
       "      <td>Senior Lab Technician</td>\n",
       "    </tr>\n",
       "    <tr>\n",
       "      <th>39956</th>\n",
       "      <td>39956</td>\n",
       "      <td>55-70</td>\n",
       "      <td>Fort Belvoir, VA</td>\n",
       "      <td>CTI And Associates Inc.</td>\n",
       "      <td>Preparing inspectionreports, correspondence an...</td>\n",
       "      <td>Hazardous Waste Technician I</td>\n",
       "    </tr>\n",
       "    <tr>\n",
       "      <th>39957</th>\n",
       "      <td>39957</td>\n",
       "      <td>55-70</td>\n",
       "      <td>Dallas, TX</td>\n",
       "      <td>Toyota</td>\n",
       "      <td>C360, data scientists, Urban Science) and deve...</td>\n",
       "      <td>Parts Sales Analyst</td>\n",
       "    </tr>\n",
       "    <tr>\n",
       "      <th>39958</th>\n",
       "      <td>39958</td>\n",
       "      <td>55-70</td>\n",
       "      <td>Atlanta, GA</td>\n",
       "      <td>ICF</td>\n",
       "      <td>The Senior Associate will be responsible for d...</td>\n",
       "      <td>Tribal Evaluation Specialist</td>\n",
       "    </tr>\n",
       "    <tr>\n",
       "      <th>39959</th>\n",
       "      <td>39959</td>\n",
       "      <td>55-70</td>\n",
       "      <td>Charlotte, NC</td>\n",
       "      <td>Randall Reilly</td>\n",
       "      <td>Performs tasks relevant to the clarification o...</td>\n",
       "      <td>Research Analyst</td>\n",
       "    </tr>\n",
       "  </tbody>\n",
       "</table>\n",
       "<p>9990 rows × 6 columns</p>\n",
       "</div>"
      ],
      "text/plain": [
       "       Unnamed: 0    bin                               city  \\\n",
       "29970       29970  55-70                      Rockville, MD   \n",
       "29971       29971  55-70                Wellesley, MA 02481   \n",
       "29972       29972  55-70                         Newton, MA   \n",
       "29973       29973  55-70                     Framingham, MA   \n",
       "29974       29974  55-70                 Hartford, CT 06156   \n",
       "29975       29975  55-70                      Cambridge, MA   \n",
       "29976       29976  55-70                    Springfield, VA   \n",
       "29977       29977  55-70                        Raleigh, NC   \n",
       "29978       29978  55-70                      Cambridge, MA   \n",
       "29979       29979  55-70                     Alpharetta, GA   \n",
       "29980       29980  55-70                      Rockville, MD   \n",
       "29981       29981  55-70                Wellesley, MA 02481   \n",
       "29982       29982  55-70                         Newton, MA   \n",
       "29983       29983  55-70                     Framingham, MA   \n",
       "29984       29984  55-70                 Hartford, CT 06156   \n",
       "29985       29985  55-70                      Cambridge, MA   \n",
       "29986       29986  55-70                    Springfield, VA   \n",
       "29987       29987  55-70                        Raleigh, NC   \n",
       "29988       29988  55-70                      Cambridge, MA   \n",
       "29989       29989  55-70                     Alpharetta, GA   \n",
       "29990       29990  55-70                      Rockville, MD   \n",
       "29991       29991  55-70                Wellesley, MA 02481   \n",
       "29992       29992  55-70                         Newton, MA   \n",
       "29993       29993  55-70                     Framingham, MA   \n",
       "29994       29994  55-70                 Hartford, CT 06156   \n",
       "29995       29995  55-70                      Cambridge, MA   \n",
       "29996       29996  55-70                    Springfield, VA   \n",
       "29997       29997  55-70                        Raleigh, NC   \n",
       "29998       29998  55-70                      Cambridge, MA   \n",
       "29999       29999  55-70                     Alpharetta, GA   \n",
       "...           ...    ...                                ...   \n",
       "39930       39930  55-70                  San Francisco, CA   \n",
       "39931       39931  55-70  New York, NY 10036 (Clinton area)   \n",
       "39932       39932  55-70                     Northridge, CA   \n",
       "39933       39933  55-70                        Norwich, NY   \n",
       "39934       39934  55-70  New York, NY 10019 (Midtown area)   \n",
       "39935       39935  55-70                   Lee's Summit, MO   \n",
       "39936       39936  55-70                   Fort Belvoir, VA   \n",
       "39937       39937  55-70                         Dallas, TX   \n",
       "39938       39938  55-70                        Atlanta, GA   \n",
       "39939       39939  55-70                      Charlotte, NC   \n",
       "39940       39940  55-70                  San Francisco, CA   \n",
       "39941       39941  55-70  New York, NY 10036 (Clinton area)   \n",
       "39942       39942  55-70                     Northridge, CA   \n",
       "39943       39943  55-70                        Norwich, NY   \n",
       "39944       39944  55-70  New York, NY 10019 (Midtown area)   \n",
       "39945       39945  55-70                   Lee's Summit, MO   \n",
       "39946       39946  55-70                   Fort Belvoir, VA   \n",
       "39947       39947  55-70                         Dallas, TX   \n",
       "39948       39948  55-70                        Atlanta, GA   \n",
       "39949       39949  55-70                      Charlotte, NC   \n",
       "39950       39950  55-70                  San Francisco, CA   \n",
       "39951       39951  55-70  New York, NY 10036 (Clinton area)   \n",
       "39952       39952  55-70                     Northridge, CA   \n",
       "39953       39953  55-70                        Norwich, NY   \n",
       "39954       39954  55-70  New York, NY 10019 (Midtown area)   \n",
       "39955       39955  55-70                   Lee's Summit, MO   \n",
       "39956       39956  55-70                   Fort Belvoir, VA   \n",
       "39957       39957  55-70                         Dallas, TX   \n",
       "39958       39958  55-70                        Atlanta, GA   \n",
       "39959       39959  55-70                      Charlotte, NC   \n",
       "\n",
       "                                   company  \\\n",
       "29970                                  ICF   \n",
       "29971                                Aetna   \n",
       "29972              Thermalin Diabetes, LLC   \n",
       "29973                              Staples   \n",
       "29974                                Aetna   \n",
       "29975                            KAYAK.com   \n",
       "29976  Concurrent Technologies Corporation   \n",
       "29977                        Resolvit, LLC   \n",
       "29978  Massachusetts General Hospital(MGH)   \n",
       "29979                   krg technology inc   \n",
       "29980                                  ICF   \n",
       "29981                                Aetna   \n",
       "29982              Thermalin Diabetes, LLC   \n",
       "29983                              Staples   \n",
       "29984                                Aetna   \n",
       "29985                            KAYAK.com   \n",
       "29986  Concurrent Technologies Corporation   \n",
       "29987                        Resolvit, LLC   \n",
       "29988  Massachusetts General Hospital(MGH)   \n",
       "29989                   krg technology inc   \n",
       "29990                                  ICF   \n",
       "29991                                Aetna   \n",
       "29992              Thermalin Diabetes, LLC   \n",
       "29993                              Staples   \n",
       "29994                                Aetna   \n",
       "29995                            KAYAK.com   \n",
       "29996  Concurrent Technologies Corporation   \n",
       "29997                        Resolvit, LLC   \n",
       "29998  Massachusetts General Hospital(MGH)   \n",
       "29999                   krg technology inc   \n",
       "...                                    ...   \n",
       "39930                             Ancestry   \n",
       "39931                                 ESPN   \n",
       "39932          California State University   \n",
       "39933                                Kerry   \n",
       "39934            Mount Sinai Health System   \n",
       "39935               CLARCOR Industrial Air   \n",
       "39936              CTI And Associates Inc.   \n",
       "39937                               Toyota   \n",
       "39938                                  ICF   \n",
       "39939                       Randall Reilly   \n",
       "39940                             Ancestry   \n",
       "39941                                 ESPN   \n",
       "39942          California State University   \n",
       "39943                                Kerry   \n",
       "39944            Mount Sinai Health System   \n",
       "39945               CLARCOR Industrial Air   \n",
       "39946              CTI And Associates Inc.   \n",
       "39947                               Toyota   \n",
       "39948                                  ICF   \n",
       "39949                       Randall Reilly   \n",
       "39950                             Ancestry   \n",
       "39951                                 ESPN   \n",
       "39952          California State University   \n",
       "39953                                Kerry   \n",
       "39954            Mount Sinai Health System   \n",
       "39955               CLARCOR Industrial Air   \n",
       "39956              CTI And Associates Inc.   \n",
       "39957                               Toyota   \n",
       "39958                                  ICF   \n",
       "39959                       Randall Reilly   \n",
       "\n",
       "                                                 summary  \\\n",
       "29970  Experience analyzing data from large social su...   \n",
       "29971  The Data Scientist will develop, implement and...   \n",
       "29972  Knack for communicating stories through data v...   \n",
       "29973  : Qualifications Job : Location(s) : Other Loc...   \n",
       "29974  Ability to work with large data sets from mult...   \n",
       "29975  Investigate data problems, identify patterns. ...   \n",
       "29976  Associate Data Scientist. CTC has an opportuni...   \n",
       "29977  Technical knowledge regarding data models, dat...   \n",
       "29978  In addition, this position involves data analy...   \n",
       "29979  Data scientist with either a Masters or PhD. S...   \n",
       "29980  Experience analyzing data from large social su...   \n",
       "29981  The Data Scientist will develop, implement and...   \n",
       "29982  Knack for communicating stories through data v...   \n",
       "29983  : Qualifications Job : Location(s) : Other Loc...   \n",
       "29984  Ability to work with large data sets from mult...   \n",
       "29985  Investigate data problems, identify patterns. ...   \n",
       "29986  Associate Data Scientist. CTC has an opportuni...   \n",
       "29987  Technical knowledge regarding data models, dat...   \n",
       "29988  In addition, this position involves data analy...   \n",
       "29989  Data scientist with either a Masters or PhD. S...   \n",
       "29990  Experience analyzing data from large social su...   \n",
       "29991  The Data Scientist will develop, implement and...   \n",
       "29992  Knack for communicating stories through data v...   \n",
       "29993  : Qualifications Job : Location(s) : Other Loc...   \n",
       "29994  Ability to work with large data sets from mult...   \n",
       "29995  Investigate data problems, identify patterns. ...   \n",
       "29996  Associate Data Scientist. CTC has an opportuni...   \n",
       "29997  Technical knowledge regarding data models, dat...   \n",
       "29998  In addition, this position involves data analy...   \n",
       "29999  Data scientist with either a Masters or PhD. S...   \n",
       "...                                                  ...   \n",
       "39930  Working with a nimble team of physicians, gene...   \n",
       "39931  Report, track and provide analysis of national...   \n",
       "39932  CLINICAL LAB SCIENTIST I:. CLINICAL LAB SCIENT...   \n",
       "39933  Proficient in all testing conducted in the Nor...   \n",
       "39934  Reviews and presents data for publication or p...   \n",
       "39935  Prepare tabulation and summary of findings and...   \n",
       "39936  Preparing inspectionreports, correspondence an...   \n",
       "39937  C360, data scientists, Urban Science) and deve...   \n",
       "39938  The Senior Associate will be responsible for d...   \n",
       "39939  Performs tasks relevant to the clarification o...   \n",
       "39940  Working with a nimble team of physicians, gene...   \n",
       "39941  Report, track and provide analysis of national...   \n",
       "39942  CLINICAL LAB SCIENTIST I:. CLINICAL LAB SCIENT...   \n",
       "39943  Proficient in all testing conducted in the Nor...   \n",
       "39944  Reviews and presents data for publication or p...   \n",
       "39945  Prepare tabulation and summary of findings and...   \n",
       "39946  Preparing inspectionreports, correspondence an...   \n",
       "39947  C360, data scientists, Urban Science) and deve...   \n",
       "39948  The Senior Associate will be responsible for d...   \n",
       "39949  Performs tasks relevant to the clarification o...   \n",
       "39950  Working with a nimble team of physicians, gene...   \n",
       "39951  Report, track and provide analysis of national...   \n",
       "39952  CLINICAL LAB SCIENTIST I:. CLINICAL LAB SCIENT...   \n",
       "39953  Proficient in all testing conducted in the Nor...   \n",
       "39954  Reviews and presents data for publication or p...   \n",
       "39955  Prepare tabulation and summary of findings and...   \n",
       "39956  Preparing inspectionreports, correspondence an...   \n",
       "39957  C360, data scientists, Urban Science) and deve...   \n",
       "39958  The Senior Associate will be responsible for d...   \n",
       "39959  Performs tasks relevant to the clarification o...   \n",
       "\n",
       "                                                   title  \n",
       "29970                                       Data Analyst  \n",
       "29971                        Data Scientist Statistician  \n",
       "29972  Data Scientist - Newton, MA (will work in Bost...  \n",
       "29973                     Data Scientist, Framingham, MA  \n",
       "29974                             Data Scientist Analyst  \n",
       "29975                                     Data Scientist  \n",
       "29976                           Associate Data Scientist  \n",
       "29977                                     Data Scientist  \n",
       "29978                      Research Scientist, Sr. (Phd)  \n",
       "29979                                     Data Scientist  \n",
       "29980                                       Data Analyst  \n",
       "29981                        Data Scientist Statistician  \n",
       "29982  Data Scientist - Newton, MA (will work in Bost...  \n",
       "29983                     Data Scientist, Framingham, MA  \n",
       "29984                             Data Scientist Analyst  \n",
       "29985                                     Data Scientist  \n",
       "29986                           Associate Data Scientist  \n",
       "29987                                     Data Scientist  \n",
       "29988                      Research Scientist, Sr. (Phd)  \n",
       "29989                                     Data Scientist  \n",
       "29990                                       Data Analyst  \n",
       "29991                        Data Scientist Statistician  \n",
       "29992  Data Scientist - Newton, MA (will work in Bost...  \n",
       "29993                     Data Scientist, Framingham, MA  \n",
       "29994                             Data Scientist Analyst  \n",
       "29995                                     Data Scientist  \n",
       "29996                           Associate Data Scientist  \n",
       "29997                                     Data Scientist  \n",
       "29998                      Research Scientist, Sr. (Phd)  \n",
       "29999                                     Data Scientist  \n",
       "...                                                  ...  \n",
       "39930                           Scientific Data Wrangler  \n",
       "39931                               Research Analyst, TV  \n",
       "39932  Clinical Lab Scientist or Technologist (Job ID...  \n",
       "39933                      Product Development Scientist  \n",
       "39934  SENIOR ASSOCIATE RESEARCHER - FULL TIME - DAYS...  \n",
       "39935                              Senior Lab Technician  \n",
       "39936                       Hazardous Waste Technician I  \n",
       "39937                                Parts Sales Analyst  \n",
       "39938                       Tribal Evaluation Specialist  \n",
       "39939                                   Research Analyst  \n",
       "39940                           Scientific Data Wrangler  \n",
       "39941                               Research Analyst, TV  \n",
       "39942  Clinical Lab Scientist or Technologist (Job ID...  \n",
       "39943                      Product Development Scientist  \n",
       "39944  SENIOR ASSOCIATE RESEARCHER - FULL TIME - DAYS...  \n",
       "39945                              Senior Lab Technician  \n",
       "39946                       Hazardous Waste Technician I  \n",
       "39947                                Parts Sales Analyst  \n",
       "39948                       Tribal Evaluation Specialist  \n",
       "39949                                   Research Analyst  \n",
       "39950                           Scientific Data Wrangler  \n",
       "39951                               Research Analyst, TV  \n",
       "39952  Clinical Lab Scientist or Technologist (Job ID...  \n",
       "39953                      Product Development Scientist  \n",
       "39954  SENIOR ASSOCIATE RESEARCHER - FULL TIME - DAYS...  \n",
       "39955                              Senior Lab Technician  \n",
       "39956                       Hazardous Waste Technician I  \n",
       "39957                                Parts Sales Analyst  \n",
       "39958                       Tribal Evaluation Specialist  \n",
       "39959                                   Research Analyst  \n",
       "\n",
       "[9990 rows x 6 columns]"
      ]
     },
     "execution_count": 49,
     "metadata": {},
     "output_type": "execute_result"
    }
   ],
   "source": [
    "df = pd.read_csv('indeed_companies.csv')\n",
    "df[df.bin ==\"55-70\"]"
   ]
  },
  {
   "cell_type": "code",
   "execution_count": 6,
   "metadata": {
    "collapsed": false
   },
   "outputs": [
    {
     "name": "stdout",
     "output_type": "stream",
     "text": [
      "<class 'pandas.core.frame.DataFrame'>\n",
      "RangeIndex: 39960 entries, 0 to 39959\n",
      "Data columns (total 5 columns):\n",
      "bin        39960 non-null object\n",
      "city       39960 non-null object\n",
      "company    39960 non-null object\n",
      "summary    39960 non-null object\n",
      "title      39960 non-null object\n",
      "dtypes: object(5)\n",
      "memory usage: 1.5+ MB\n"
     ]
    }
   ],
   "source": [
    "result.info()"
   ]
  },
  {
   "cell_type": "code",
   "execution_count": 7,
   "metadata": {
    "collapsed": false
   },
   "outputs": [
    {
     "data": {
      "text/plain": [
       "85-100     9990\n",
       "55-70      9990\n",
       "100-115    9990\n",
       "70-85      9990\n",
       "Name: bin, dtype: int64"
      ]
     },
     "execution_count": 7,
     "metadata": {},
     "output_type": "execute_result"
    }
   ],
   "source": [
    "%matplotlib inline\n",
    "import seaborn\n",
    "result.bin.value_counts()"
   ]
  },
  {
   "cell_type": "code",
   "execution_count": 223,
   "metadata": {
    "collapsed": false
   },
   "outputs": [],
   "source": [
    "#result.company.unique()"
   ]
  },
  {
   "cell_type": "code",
   "execution_count": 8,
   "metadata": {
    "collapsed": false
   },
   "outputs": [],
   "source": [
    "import nltk\n",
    "import nltk.stem\n",
    "import nltk.stem.porter\n",
    "import nltk.stem.snowball\n",
    "snowball = nltk.stem.snowball.SnowballStemmer(\"english\")\n",
    "from nltk.corpus import stopwords\n",
    "import re"
   ]
  },
  {
   "cell_type": "markdown",
   "metadata": {},
   "source": [
    "Extracting data from DataFrame and Cleaning it from numbers, charactters, stopwords."
   ]
  },
  {
   "cell_type": "code",
   "execution_count": null,
   "metadata": {
    "collapsed": false
   },
   "outputs": [],
   "source": []
  },
  {
   "cell_type": "code",
   "execution_count": 35,
   "metadata": {
    "collapsed": false
   },
   "outputs": [
    {
     "data": {
      "text/plain": [
       "611"
      ]
     },
     "execution_count": 35,
     "metadata": {},
     "output_type": "execute_result"
    }
   ],
   "source": [
    "junior = str(result[result['bin'].isin(['55-70'])].summary) #subsetting over categories(bins)\n",
    "mid_low = str(result[result['bin'].isin(['70-85'])].summary)\n",
    "mid_high = str(result[result['bin'].isin(['85-100'])].summary)\n",
    "senior = str(result[result['bin'].isin(['100-115'])].summary)\n",
    "\n",
    "junior_clean = re.sub(\"[^a-zA-Z]\", \" \", junior)\n",
    "mid_low_clean = re.sub(\"[^a-zA-Z]\", \" \", mid_low)\n",
    "mid_high_clean = re.sub(\"[^a-zA-Z]\", \" \", mid_high)\n",
    "senior_clean = re.sub(\"[^a-zA-Z]\", \" \", senior)\n",
    "\n",
    "#junior_clean\n",
    "\n",
    "stop = set(stopwords.words('english'))\n",
    "stop.update([',', '\"', \"'\", '?', '!', ':', ';', '(', ')', '[', ']', '{', '}', '...'])\n",
    "\n",
    "junior_words = [w for w in (nltk.word_tokenize(junior))]# if w.lower() not in stop]\n",
    "mid_low_words = [w for w in (nltk.word_tokenize(mid_low_clean)) if w.lower() not in stop]\n",
    "mid_high_words = [w for w in (nltk.word_tokenize(mid_high_clean)) if w.lower() not in stop]\n",
    "senior_words = [w for w in (nltk.word_tokenize(senior_clean)) if w.lower() not in stop]\n",
    "\n",
    "\n",
    "len(junior_words)"
   ]
  },
  {
   "cell_type": "code",
   "execution_count": 43,
   "metadata": {
    "collapsed": false
   },
   "outputs": [
    {
     "data": {
      "text/plain": [
       "'29970    Experience analyzing data from large social su...\\n29971    The Data Scientist will develop, implement and...\\n29972    Knack for communicating stories through data v...\\n29973    : Qualifications Job : Location(s) : Other Loc...\\n29974    Ability to work with large data sets from mult...\\n29975    Investigate data problems, identify patterns. ...\\n29976    Associate Data Scientist. CTC has an opportuni...\\n29977    Technical knowledge regarding data models, dat...\\n29978    In addition, this position involves data analy...\\n29979    Data scientist with either a Masters or PhD. S...\\n29980    Experience analyzing data from large social su...\\n29981    The Data Scientist will develop, implement and...\\n29982    Knack for communicating stories through data v...\\n29983    : Qualifications Job : Location(s) : Other Loc...\\n29984    Ability to work with large data sets from mult...\\n29985    Investigate data problems, identify patterns. ...\\n29986    Associate Data Scientist. CTC has an opportuni...\\n29987    Technical knowledge regarding data models, dat...\\n29988    In addition, this position involves data analy...\\n29989    Data scientist with either a Masters or PhD. S...\\n29990    Experience analyzing data from large social su...\\n29991    The Data Scientist will develop, implement and...\\n29992    Knack for communicating stories through data v...\\n29993    : Qualifications Job : Location(s) : Other Loc...\\n29994    Ability to work with large data sets from mult...\\n29995    Investigate data problems, identify patterns. ...\\n29996    Associate Data Scientist. CTC has an opportuni...\\n29997    Technical knowledge regarding data models, dat...\\n29998    In addition, this position involves data analy...\\n29999    Data scientist with either a Masters or PhD. S...\\n                               ...                        \\n39930    Working with a nimble team of physicians, gene...\\n39931    Report, track and provide analysis of national...\\n39932    CLINICAL LAB SCIENTIST I:. CLINICAL LAB SCIENT...\\n39933    Proficient in all testing conducted in the Nor...\\n39934    Reviews and presents data for publication or p...\\n39935    Prepare tabulation and summary of findings and...\\n39936    Preparing inspectionreports, correspondence an...\\n39937    C360, data scientists, Urban Science) and deve...\\n39938    The Senior Associate will be responsible for d...\\n39939    Performs tasks relevant to the clarification o...\\n39940    Working with a nimble team of physicians, gene...\\n39941    Report, track and provide analysis of national...\\n39942    CLINICAL LAB SCIENTIST I:. CLINICAL LAB SCIENT...\\n39943    Proficient in all testing conducted in the Nor...\\n39944    Reviews and presents data for publication or p...\\n39945    Prepare tabulation and summary of findings and...\\n39946    Preparing inspectionreports, correspondence an...\\n39947    C360, data scientists, Urban Science) and deve...\\n39948    The Senior Associate will be responsible for d...\\n39949    Performs tasks relevant to the clarification o...\\n39950    Working with a nimble team of physicians, gene...\\n39951    Report, track and provide analysis of national...\\n39952    CLINICAL LAB SCIENTIST I:. CLINICAL LAB SCIENT...\\n39953    Proficient in all testing conducted in the Nor...\\n39954    Reviews and presents data for publication or p...\\n39955    Prepare tabulation and summary of findings and...\\n39956    Preparing inspectionreports, correspondence an...\\n39957    C360, data scientists, Urban Science) and deve...\\n39958    The Senior Associate will be responsible for d...\\n39959    Performs tasks relevant to the clarification o...\\nName: summary, dtype: object'"
      ]
     },
     "execution_count": 43,
     "metadata": {},
     "output_type": "execute_result"
    }
   ],
   "source": [
    "junior"
   ]
  },
  {
   "cell_type": "code",
   "execution_count": null,
   "metadata": {
    "collapsed": false
   },
   "outputs": [],
   "source": []
  },
  {
   "cell_type": "code",
   "execution_count": null,
   "metadata": {
    "collapsed": true
   },
   "outputs": [],
   "source": []
  },
  {
   "cell_type": "code",
   "execution_count": 37,
   "metadata": {
    "collapsed": false
   },
   "outputs": [
    {
     "data": {
      "text/plain": [
       "['...',\n",
       " 'Associate',\n",
       " 'CLINICAL',\n",
       " 'Data',\n",
       " 'LAB',\n",
       " 'Scientist',\n",
       " 'The',\n",
       " 'and',\n",
       " 'data',\n",
       " 'for',\n",
       " 'from',\n",
       " 'large',\n",
       " 'summary',\n",
       " 'the',\n",
       " 'will',\n",
       " 'with']"
      ]
     },
     "execution_count": 37,
     "metadata": {},
     "output_type": "execute_result"
    }
   ],
   "source": [
    "from nltk.probability import FreqDist\n",
    "fdist_junior = FreqDist(junior_words)\n",
    "jun_features = sorted(w for w in set(junior_words) if len(w) > 2 and fdist_junior[w] > 3)\n",
    "jun_features"
   ]
  },
  {
   "cell_type": "code",
   "execution_count": 13,
   "metadata": {
    "collapsed": false
   },
   "outputs": [
    {
     "data": {
      "text/plain": [
       "['Data',\n",
       " 'Experience',\n",
       " 'Scientist',\n",
       " 'SiteLock',\n",
       " 'data',\n",
       " 'large',\n",
       " 'sets',\n",
       " 'working']"
      ]
     },
     "execution_count": 13,
     "metadata": {},
     "output_type": "execute_result"
    }
   ],
   "source": [
    "from nltk.probability import FreqDist\n",
    "fdist_mid_low = FreqDist(mid_low_words)\n",
    "sorted(w for w in set(mid_low_words) if len(w) > 2 and fdist_mid_low[w] > 3)"
   ]
  },
  {
   "cell_type": "code",
   "execution_count": 228,
   "metadata": {
    "collapsed": false
   },
   "outputs": [
    {
     "data": {
      "text/plain": [
       "['Data',\n",
       " 'Experience',\n",
       " 'Operations',\n",
       " 'Scientist',\n",
       " 'Seeking',\n",
       " 'Senior',\n",
       " 'analysis',\n",
       " 'analytics',\n",
       " 'applying',\n",
       " 'build',\n",
       " 'business',\n",
       " 'cleansing',\n",
       " 'data',\n",
       " 'database',\n",
       " 'engineers',\n",
       " 'experience',\n",
       " 'join',\n",
       " 'large',\n",
       " 'learning',\n",
       " 'machine',\n",
       " 'mining',\n",
       " 'modeling',\n",
       " 'models',\n",
       " 'new',\n",
       " 'quality',\n",
       " 'seeking',\n",
       " 'sources',\n",
       " 'statistical',\n",
       " 'support',\n",
       " 'team',\n",
       " 'test',\n",
       " 'tools']"
      ]
     },
     "execution_count": 228,
     "metadata": {},
     "output_type": "execute_result"
    }
   ],
   "source": [
    "from nltk.probability import FreqDist\n",
    "fdist_mid_high = FreqDist(mid_high_words)\n",
    "sorted(w for w in set(mid_high_words) if len(w) > 2 and fdist_mid_high[w] > 5)"
   ]
  },
  {
   "cell_type": "code",
   "execution_count": 23,
   "metadata": {
    "collapsed": false
   },
   "outputs": [
    {
     "data": {
      "text/plain": [
       "['Data', 'Scientist', 'data']"
      ]
     },
     "execution_count": 23,
     "metadata": {},
     "output_type": "execute_result"
    }
   ],
   "source": [
    "from nltk.probability import FreqDist\n",
    "fdist_senior = FreqDist(senior_words)\n",
    "sorted(w for w in set(senior_words) if len(w) > 2 and fdist_senior[w] > 5)"
   ]
  },
  {
   "cell_type": "markdown",
   "metadata": {},
   "source": [
    "Now lets have a look at bigrams and trigrams as they are more meaningful. In the next few steps I am going to highlight most common bigrams and trigrams for each of 4 categories:"
   ]
  },
  {
   "cell_type": "code",
   "execution_count": 240,
   "metadata": {
    "collapsed": false
   },
   "outputs": [
    {
     "data": {
      "text/plain": [
       "['Investigate data',\n",
       " 'analyzing investigating',\n",
       " 'data analysis',\n",
       " 'data mining',\n",
       " 'data models',\n",
       " 'data parsing',\n",
       " 'data problems',\n",
       " 'identify patterns',\n",
       " 'interpreting modeling',\n",
       " 'investigating interpreting',\n",
       " 'love working',\n",
       " 'mining segmentation',\n",
       " 'modeling extracting',\n",
       " 'parsing analyzing',\n",
       " 'patterns person',\n",
       " 'person love',\n",
       " 'problems identify',\n",
       " 'working data']"
      ]
     },
     "execution_count": 240,
     "metadata": {},
     "output_type": "execute_result"
    }
   ],
   "source": [
    "jun_pairs = [ \" \".join(pair) for pair in nltk.bigrams(junior_words)]\n",
    "jun_trigrams = sorted([ \" \".join(pair) for pair in nltk.trigrams(junior_words)])\n",
    "fdist_junpairs = FreqDist(jun_pairs)\n",
    "fdist_jun_trigrams = FreqDist(jun_trigrams)\n",
    "\n",
    "\n",
    "sorted(w for w in set(jun_pairs) if fdist_junpairs[w] > 5)\n",
    "#sorted(w for w in set(jun_trigrams) if fdist_jun_trigrams[w] > 5)"
   ]
  },
  {
   "cell_type": "code",
   "execution_count": 239,
   "metadata": {
    "collapsed": false
   },
   "outputs": [
    {
     "data": {
      "text/plain": [
       "['Data Scientist',\n",
       " 'Physics Division',\n",
       " 'clinical data',\n",
       " 'data analysis',\n",
       " 'data quality',\n",
       " 'data sets',\n",
       " 'data sources',\n",
       " 'data using',\n",
       " 'ensure data',\n",
       " 'large data',\n",
       " 'successful candidate']"
      ]
     },
     "execution_count": 239,
     "metadata": {},
     "output_type": "execute_result"
    }
   ],
   "source": [
    "mid_low_pairs = [ \" \".join(pair) for pair in nltk.bigrams(mid_low_words)]\n",
    "mid_low_trigrams = sorted([ \" \".join(pair) for pair in nltk.trigrams(mid_low_words)])\n",
    "fdist_mid_low = FreqDist(mid_low_pairs)\n",
    "fdist_mid_low_trigrams = FreqDist(mid_low_trigrams)\n",
    "\n",
    "\n",
    "sorted(w for w in set(mid_low_pairs) if fdist_mid_low[w] > 5)\n",
    "#sorted(w for w in set(mid_low_trigrams) if fdist_mid_low_trigrams[w] > 2)"
   ]
  },
  {
   "cell_type": "code",
   "execution_count": 245,
   "metadata": {
    "collapsed": false
   },
   "outputs": [
    {
     "data": {
      "text/plain": [
       "['Data Scientist',\n",
       " 'Experience data',\n",
       " 'data analysis',\n",
       " 'data mining',\n",
       " 'machine learning',\n",
       " 'mining data',\n",
       " 'new data',\n",
       " 'quality data']"
      ]
     },
     "execution_count": 245,
     "metadata": {},
     "output_type": "execute_result"
    }
   ],
   "source": [
    "mid_high_pairs = [ \" \".join(pair) for pair in nltk.bigrams(mid_high_words)]\n",
    "mid_high_trigrams = sorted([ \" \".join(pair) for pair in nltk.trigrams(mid_high_words)])\n",
    "fdist_mid_high = FreqDist(mid_high_pairs)\n",
    "fdist_mid_high_trigrams = FreqDist(mid_high_trigrams)\n",
    "\n",
    "\n",
    "sorted(w for w in set(mid_high_pairs) if fdist_mid_high[w] > 5)\n",
    "#sorted(w for w in set(mid_high_trigrams) if fdist_mid_high_trigrams[w] > 2)"
   ]
  },
  {
   "cell_type": "code",
   "execution_count": 250,
   "metadata": {
    "collapsed": false
   },
   "outputs": [
    {
     "data": {
      "text/plain": [
       "['Data Analysis',\n",
       " 'Data Science',\n",
       " 'Data Scientist',\n",
       " 'Data Scientists',\n",
       " 'Field Data',\n",
       " 'Scientist experience',\n",
       " 'data management',\n",
       " 'data mining',\n",
       " 'data scientist',\n",
       " 'data scientists',\n",
       " 'end end',\n",
       " 'experience leading',\n",
       " 'highly motivated',\n",
       " 'looking highly']"
      ]
     },
     "execution_count": 250,
     "metadata": {},
     "output_type": "execute_result"
    }
   ],
   "source": [
    "senior_pairs = [ \" \".join(pair) for pair in nltk.bigrams(senior_words)]\n",
    "senior_trigrams = sorted([ \" \".join(pair) for pair in nltk.trigrams(senior_words)])\n",
    "fdist_senior = FreqDist(senior_pairs)\n",
    "fdist_senior_trigrams = FreqDist(senior_trigrams)\n",
    "\n",
    "\n",
    "sorted(w for w in set(senior_pairs) if fdist_senior[w] > 3)\n",
    "#sorted(w for w in set(senior_trigrams) if fdist_senior_trigrams[w] > 2)"
   ]
  },
  {
   "cell_type": "markdown",
   "metadata": {},
   "source": [
    "Now it seems that towards senior level words as \"expert\", \"management\", \"lead\" appear more frequently. While words like \"parsing\" and \"extracting\" are more common for junior category"
   ]
  },
  {
   "cell_type": "code",
   "execution_count": 232,
   "metadata": {
    "collapsed": false
   },
   "outputs": [
    {
     "ename": "NameError",
     "evalue": "name 'sklearn' is not defined",
     "output_type": "error",
     "traceback": [
      "\u001b[1;31m---------------------------------------------------------------------------\u001b[0m",
      "\u001b[1;31mNameError\u001b[0m                                 Traceback (most recent call last)",
      "\u001b[1;32m<ipython-input-232-2851c572cf4e>\u001b[0m in \u001b[0;36m<module>\u001b[1;34m()\u001b[0m\n\u001b[1;32m----> 1\u001b[1;33m \u001b[0mlr\u001b[0m \u001b[1;33m=\u001b[0m \u001b[0msklearn\u001b[0m\u001b[1;33m.\u001b[0m\u001b[0mlinear_model\u001b[0m\u001b[1;33m.\u001b[0m\u001b[0mLogisticRegression\u001b[0m\u001b[1;33m(\u001b[0m\u001b[1;33m)\u001b[0m\u001b[1;33m\u001b[0m\u001b[0m\n\u001b[0m\u001b[0;32m      2\u001b[0m \u001b[0mlr\u001b[0m\u001b[1;33m.\u001b[0m\u001b[0mfit\u001b[0m\u001b[1;33m(\u001b[0m\u001b[0mtitanic\u001b[0m\u001b[1;33m[\u001b[0m\u001b[1;33m[\u001b[0m\u001b[1;34m'Age'\u001b[0m\u001b[1;33m]\u001b[0m\u001b[1;33m]\u001b[0m \u001b[1;33m,\u001b[0m\u001b[0mtitanic\u001b[0m\u001b[1;33m.\u001b[0m\u001b[0mSurvived\u001b[0m\u001b[1;33m)\u001b[0m\u001b[1;33m\u001b[0m\u001b[0m\n\u001b[0;32m      3\u001b[0m \u001b[0mprobabilities\u001b[0m \u001b[1;33m=\u001b[0m \u001b[0mlr\u001b[0m\u001b[1;33m.\u001b[0m\u001b[0mpredict_proba\u001b[0m\u001b[1;33m(\u001b[0m\u001b[1;33m[\u001b[0m \u001b[1;33m[\u001b[0m\u001b[0mage\u001b[0m\u001b[1;33m]\u001b[0m \u001b[1;32mfor\u001b[0m \u001b[0mage\u001b[0m \u001b[1;32min\u001b[0m \u001b[0mrange\u001b[0m\u001b[1;33m(\u001b[0m\u001b[1;36m0\u001b[0m\u001b[1;33m,\u001b[0m\u001b[1;36m101\u001b[0m\u001b[1;33m)\u001b[0m  \u001b[1;33m]\u001b[0m\u001b[1;33m)\u001b[0m\u001b[1;33m\u001b[0m\u001b[0m\n\u001b[0;32m      4\u001b[0m \u001b[0mmatplotlib\u001b[0m\u001b[1;33m.\u001b[0m\u001b[0mpyplot\u001b[0m\u001b[1;33m.\u001b[0m\u001b[0mplot\u001b[0m\u001b[1;33m(\u001b[0m\u001b[0mprobabilities\u001b[0m\u001b[1;33m)\u001b[0m\u001b[1;33m\u001b[0m\u001b[0m\n\u001b[0;32m      5\u001b[0m \u001b[0mprobabilities\u001b[0m\u001b[1;33m\u001b[0m\u001b[0m\n",
      "\u001b[1;31mNameError\u001b[0m: name 'sklearn' is not defined"
     ]
    }
   ],
   "source": [
    "lr = sklearn.linear_model.LogisticRegression()\n",
    "lr.fit(titanic[['Age']] ,titanic.Survived)\n",
    "probabilities = lr.predict_proba([ [age] for age in range(0,101)  ])\n",
    "matplotlib.pyplot.plot(probabilities)\n",
    "probabilities"
   ]
  },
  {
   "cell_type": "code",
   "execution_count": null,
   "metadata": {
    "collapsed": true
   },
   "outputs": [],
   "source": []
  }
 ],
 "metadata": {
  "anaconda-cloud": {},
  "kernelspec": {
   "display_name": "Python [Root]",
   "language": "python",
   "name": "Python [Root]"
  },
  "language_info": {
   "codemirror_mode": {
    "name": "ipython",
    "version": 2
   },
   "file_extension": ".py",
   "mimetype": "text/x-python",
   "name": "python",
   "nbconvert_exporter": "python",
   "pygments_lexer": "ipython2",
   "version": "2.7.12"
  }
 },
 "nbformat": 4,
 "nbformat_minor": 0
}
